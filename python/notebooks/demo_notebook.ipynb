{
 "cells": [
  {
   "cell_type": "markdown",
   "id": "f4734a95-119c-43bc-ac6e-4e2c7654687f",
   "metadata": {},
   "source": [
    "## load your modules and necessary libaries"
   ]
  },
  {
   "cell_type": "code",
   "execution_count": 1,
   "id": "e888fcc5-48ba-4d80-8b46-b517127c24bd",
   "metadata": {},
   "outputs": [],
   "source": [
    "import os, sys, time\n",
    "import pickle5 as pickle \n",
    "import pandas as pd\n",
    "#replace *_projectname_* with your project name \n",
    "sys.path.append('/home/jovyan/work/_projectname_/')\n",
    "\n",
    "#load your custom modules and scripts \n",
    "#from src.name.data.nest_collection import DataCollecter\n",
    "from src.name.data.nest_collection import NESTClient\n",
    "from src.name.features.cyclicalfeatures import DataEngineeringCyclicalFeatures\n",
    "from src.name.model.dummy_model import DummyModel"
   ]
  },
  {
   "cell_type": "code",
   "execution_count": 2,
   "id": "2f39d02e-ce82-4edc-a9b5-bc5eb129576e",
   "metadata": {},
   "outputs": [],
   "source": [
    "#general libraries \n",
    "#import os, sys, time\n",
    "\n",
    "#replace *_projectname_* with your project name \n",
    "#sys.path.append('/home/jovyan/work/_projectname_/')\n",
    "\n",
    "#load your custom modules and scripts \n",
    "#from src.name.data import DataCollecter\n",
    "#from src.name.features import DataEngineeringCyclicalFeatures\n",
    "#from src.name.model import WhiteBoxModel\n",
    "\n",
    "#load general metrics to estimate model performance \n",
    "#from sklearn.metrics import mean_absolute_error,r2_score,mean_squared_error, confusion_matrix, accuracy_score, precision_score, recall_score\n",
    "#from sklearn.ensemble import RandomForestRegressor, RandomForestClassifier "
   ]
  },
  {
   "cell_type": "markdown",
   "id": "71c0c18d-e810-4884-8fd3-01662b9bcf7a",
   "metadata": {},
   "source": [
    "## load data and model for your project"
   ]
  },
  {
   "cell_type": "markdown",
   "id": "ce6e2295-1764-4019-9ac2-e77929a273bc",
   "metadata": {},
   "source": [
    "load model from models"
   ]
  },
  {
   "cell_type": "code",
   "execution_count": 3,
   "id": "1cf7c65c-801f-45e1-9255-9cc2e51ad20b",
   "metadata": {},
   "outputs": [
    {
     "data": {
      "text/plain": [
       "'/home/jovyan/work/test-sphinx/notebooks'"
      ]
     },
     "execution_count": 3,
     "metadata": {},
     "output_type": "execute_result"
    }
   ],
   "source": [
    "%pwd"
   ]
  },
  {
   "cell_type": "code",
   "execution_count": 4,
   "id": "5cdd858b-531d-43ef-9789-11e228a39977",
   "metadata": {},
   "outputs": [],
   "source": [
    "path = '../models/'\n",
    "model_name = '_insert_name.pickle'\n",
    "\n",
    "with open(f'{path + model_name}', 'rb') as handle:\n",
    "    model = pickle.load(handle)"
   ]
  },
  {
   "cell_type": "markdown",
   "id": "e8674609-afee-4412-87af-49fe836add60",
   "metadata": {},
   "source": [
    "load model from src code "
   ]
  },
  {
   "cell_type": "code",
   "execution_count": 5,
   "id": "5858cc44-3f32-41fe-9351-fae873240097",
   "metadata": {},
   "outputs": [],
   "source": [
    "whitebox = DummyModel()"
   ]
  },
  {
   "cell_type": "markdown",
   "id": "08d6ed73-7175-4138-a432-c92dd2195e19",
   "metadata": {},
   "source": [
    "load data from src data e.g. NESTCloud use DataCollector"
   ]
  },
  {
   "cell_type": "code",
   "execution_count": 6,
   "id": "1aad0a7b-d83b-4f30-9454-d37c43260dbb",
   "metadata": {},
   "outputs": [
    {
     "data": {
      "text/plain": [
       "\"configurationfile_path = '../src/name/data/sensor_configuration.yaml'\\n\\nwith open(configurationfile_path) as f:\\n    data = yaml.load(f, Loader=SafeLoader)\\n    data['weather']\""
      ]
     },
     "execution_count": 6,
     "metadata": {},
     "output_type": "execute_result"
    }
   ],
   "source": [
    "\"\"\"configurationfile_path = '../src/name/data/sensor_configuration.yaml'\n",
    "\n",
    "with open(configurationfile_path) as f:\n",
    "    data = yaml.load(f, Loader=SafeLoader)\n",
    "    data['weather']\"\"\""
   ]
  },
  {
   "cell_type": "code",
   "execution_count": null,
   "id": "572c1f90-f3e9-41a3-8878-7ccb6d83d5b1",
   "metadata": {},
   "outputs": [],
   "source": [
    "nest = NESTClient()\n",
    "\n",
    "timeseries_id = [\"42110022\"]\n",
    "\n",
    "df_read = nest.get_timeseries_data(\n",
    "    timeseries_id=timeseries_id,\n",
    "    start_date=\"2024-03-01 00:00:00\",\n",
    "    end_date=\"2024-04-01 00:00:00\",\n",
    "    agg_interval=1,\n",
    "    agg_unit=\"minutes\",\n",
    "    agg_function=\"max\",\n",
    ")\n",
    "\n",
    "# Plotting the results\n",
    "print(df_read[0])\n",
    "\n",
    "f, a = plt.subplots(figsize=(8, 6))\n",
    "for i in range(len(df_read)):\n",
    "    ts_i = df_read[i]\n",
    "    a.plot(ts_i[\"timestamp\"], ts_i[\"value\"], label=timeseries_id[i])\n",
    "a.legend(loc=\"upper left\", bbox_to_anchor=(1, 1))\n",
    "a.tick_params(axis=\"x\", rotation=17)\n",
    "f.tight_layout()\n",
    "plt.show()"
   ]
  },
  {
   "cell_type": "markdown",
   "id": "86a9cc8d-426d-4114-8acf-cde608bcbd7d",
   "metadata": {},
   "source": [
    "load data from data "
   ]
  },
  {
   "cell_type": "code",
   "execution_count": 8,
   "id": "c8c0dbe8-06c1-4b05-9e9b-245c5680ccd3",
   "metadata": {},
   "outputs": [],
   "source": [
    "path = '../data/processed/'\n",
    "data_name = 'insert_name.csv'\n",
    "\n",
    "with open(f'{path + data_name}', 'r') as handle:\n",
    "    df = pd.read_csv(handle)"
   ]
  },
  {
   "cell_type": "markdown",
   "id": "b2f8d225-7a9f-4e15-9d4e-6e2aa736d204",
   "metadata": {},
   "source": [
    "## insert code below to reproduce your main results and visualisations"
   ]
  }
 ],
 "metadata": {
  "kernelspec": {
   "display_name": "Python 3 (ipykernel)",
   "language": "python",
   "name": "python3"
  },
  "language_info": {
   "codemirror_mode": {
    "name": "ipython",
    "version": 3
   },
   "file_extension": ".py",
   "mimetype": "text/x-python",
   "name": "python",
   "nbconvert_exporter": "python",
   "pygments_lexer": "ipython3",
   "version": "3.9.13"
  }
 },
 "nbformat": 4,
 "nbformat_minor": 5
}
