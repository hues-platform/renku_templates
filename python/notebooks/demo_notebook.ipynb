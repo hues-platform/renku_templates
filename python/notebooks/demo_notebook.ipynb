{
 "cells": [
  {
   "cell_type": "markdown",
   "id": "f4734a95-119c-43bc-ac6e-4e2c7654687f",
   "metadata": {},
   "source": [
    "## load your modules and necessary libaries"
   ]
  },
  {
   "cell_type": "code",
   "execution_count": 1,
   "id": "e888fcc5-48ba-4d80-8b46-b517127c24bd",
   "metadata": {},
   "outputs": [],
   "source": [
    "import os, sys, time\n",
    "import pickle5 as pickle \n",
    "import pandas as pd\n",
    "#replace *_projectname_* with your project name \n",
    "sys.path.append('/home/jovyan/work/_projectname_/')\n",
    "\n",
    "#load your custom modules and scripts \n",
    "#from src.name.data.nest_collection import DataCollecter\n",
    "from src.name.data.nest_collection import NESTClient\n",
    "from src.name.features.cyclicalfeatures import DataEngineeringCyclicalFeatures\n",
    "from src.name.model.dummy_model import DummyModel"
   ]
  },
  {
   "cell_type": "code",
   "execution_count": 2,
   "id": "2f39d02e-ce82-4edc-a9b5-bc5eb129576e",
   "metadata": {},
   "outputs": [],
   "source": [
    "#general libraries \n",
    "#import os, sys, time\n",
    "\n",
    "#replace *_projectname_* with your project name \n",
    "#sys.path.append('/home/jovyan/work/_projectname_/')\n",
    "\n",
    "#load your custom modules and scripts \n",
    "#from src.name.data import DataCollecter\n",
    "#from src.name.features import DataEngineeringCyclicalFeatures\n",
    "#from src.name.model import WhiteBoxModel\n",
    "\n",
    "#load general metrics to estimate model performance \n",
    "#from sklearn.metrics import mean_absolute_error,r2_score,mean_squared_error, confusion_matrix, accuracy_score, precision_score, recall_score\n",
    "#from sklearn.ensemble import RandomForestRegressor, RandomForestClassifier "
   ]
  },
  {
   "cell_type": "markdown",
   "id": "71c0c18d-e810-4884-8fd3-01662b9bcf7a",
   "metadata": {},
   "source": [
    "## load data and model for your project"
   ]
  },
  {
   "cell_type": "markdown",
   "id": "ce6e2295-1764-4019-9ac2-e77929a273bc",
   "metadata": {},
   "source": [
    "load model from models"
   ]
  },
  {
   "cell_type": "code",
   "execution_count": 3,
   "id": "1cf7c65c-801f-45e1-9255-9cc2e51ad20b",
   "metadata": {},
   "outputs": [
    {
     "data": {
      "text/plain": [
       "'/home/jovyan/work/test-sphinx/notebooks'"
      ]
     },
     "execution_count": 3,
     "metadata": {},
     "output_type": "execute_result"
    }
   ],
   "source": [
    "%pwd"
   ]
  },
  {
   "cell_type": "code",
   "execution_count": 4,
   "id": "5cdd858b-531d-43ef-9789-11e228a39977",
   "metadata": {},
   "outputs": [],
   "source": [
    "path = '../models/'\n",
    "model_name = '_insert_name.pickle'\n",
    "\n",
    "with open(f'{path + model_name}', 'rb') as handle:\n",
    "    model = pickle.load(handle)"
   ]
  },
  {
   "cell_type": "markdown",
   "id": "e8674609-afee-4412-87af-49fe836add60",
   "metadata": {},
   "source": [
    "load model from src code "
   ]
  },
  {
   "cell_type": "code",
   "execution_count": 5,
   "id": "5858cc44-3f32-41fe-9351-fae873240097",
   "metadata": {},
   "outputs": [],
   "source": [
    "whitebox = DummyModel()"
   ]
  },
  {
   "cell_type": "markdown",
   "id": "08d6ed73-7175-4138-a432-c92dd2195e19",
   "metadata": {},
   "source": [
    "load data from src data e.g. NESTCloud use DataCollector"
   ]
  },
  {
   "cell_type": "code",
   "execution_count": 6,
   "id": "1aad0a7b-d83b-4f30-9454-d37c43260dbb",
   "metadata": {},
   "outputs": [
    {
     "data": {
      "text/plain": [
       "\"configurationfile_path = '../src/name/data/sensor_configuration.yaml'\\n\\nwith open(configurationfile_path) as f:\\n    data = yaml.load(f, Loader=SafeLoader)\\n    data['weather']\""
      ]
     },
     "execution_count": 6,
     "metadata": {},
     "output_type": "execute_result"
    }
   ],
   "source": [
    "\"\"\"configurationfile_path = '../src/name/data/sensor_configuration.yaml'\n",
    "\n",
    "with open(configurationfile_path) as f:\n",
    "    data = yaml.load(f, Loader=SafeLoader)\n",
    "    data['weather']\"\"\""
   ]
  },
  {
   "cell_type": "code",
   "execution_count": 7,
   "id": "572c1f90-f3e9-41a3-8878-7ccb6d83d5b1",
   "metadata": {},
   "outputs": [
    {
     "name": "stderr",
     "output_type": "stream",
     "text": [
      "2024-05-07 07:15:57,152 - Getting timeseries data for:\n",
      " https://api.nestcloud.ch/nest/data?numericid=42110022&startDate=2024-03-01 00:00:00&endDate=2024-04-01 00:00:00&aggIntervall=1&aggUnit=minutes&aggFunction=max\n"
     ]
    },
    {
     "ename": "HTTPError",
     "evalue": "403 Client Error: Forbidden for url: https://api.nestcloud.ch/nest/data?numericid=42110022&startDate=2024-03-01%2000:00:00&endDate=2024-04-01%2000:00:00&aggIntervall=1&aggUnit=minutes&aggFunction=max",
     "output_type": "error",
     "traceback": [
      "\u001b[0;31m---------------------------------------------------------------------------\u001b[0m",
      "\u001b[0;31mHTTPError\u001b[0m                                 Traceback (most recent call last)",
      "Cell \u001b[0;32mIn[7], line 5\u001b[0m\n\u001b[1;32m      1\u001b[0m nest \u001b[38;5;241m=\u001b[39m NESTClient()\n\u001b[1;32m      3\u001b[0m timeseries_id \u001b[38;5;241m=\u001b[39m [\u001b[38;5;124m\"\u001b[39m\u001b[38;5;124m42110022\u001b[39m\u001b[38;5;124m\"\u001b[39m]\n\u001b[0;32m----> 5\u001b[0m df_read \u001b[38;5;241m=\u001b[39m \u001b[43mnest\u001b[49m\u001b[38;5;241;43m.\u001b[39;49m\u001b[43mget_timeseries_data\u001b[49m\u001b[43m(\u001b[49m\n\u001b[1;32m      6\u001b[0m \u001b[43m    \u001b[49m\u001b[43mtimeseries_id\u001b[49m\u001b[38;5;241;43m=\u001b[39;49m\u001b[43mtimeseries_id\u001b[49m\u001b[43m,\u001b[49m\n\u001b[1;32m      7\u001b[0m \u001b[43m    \u001b[49m\u001b[43mstart_date\u001b[49m\u001b[38;5;241;43m=\u001b[39;49m\u001b[38;5;124;43m\"\u001b[39;49m\u001b[38;5;124;43m2024-03-01 00:00:00\u001b[39;49m\u001b[38;5;124;43m\"\u001b[39;49m\u001b[43m,\u001b[49m\n\u001b[1;32m      8\u001b[0m \u001b[43m    \u001b[49m\u001b[43mend_date\u001b[49m\u001b[38;5;241;43m=\u001b[39;49m\u001b[38;5;124;43m\"\u001b[39;49m\u001b[38;5;124;43m2024-04-01 00:00:00\u001b[39;49m\u001b[38;5;124;43m\"\u001b[39;49m\u001b[43m,\u001b[49m\n\u001b[1;32m      9\u001b[0m \u001b[43m    \u001b[49m\u001b[43magg_interval\u001b[49m\u001b[38;5;241;43m=\u001b[39;49m\u001b[38;5;241;43m1\u001b[39;49m\u001b[43m,\u001b[49m\n\u001b[1;32m     10\u001b[0m \u001b[43m    \u001b[49m\u001b[43magg_unit\u001b[49m\u001b[38;5;241;43m=\u001b[39;49m\u001b[38;5;124;43m\"\u001b[39;49m\u001b[38;5;124;43mminutes\u001b[39;49m\u001b[38;5;124;43m\"\u001b[39;49m\u001b[43m,\u001b[49m\n\u001b[1;32m     11\u001b[0m \u001b[43m    \u001b[49m\u001b[43magg_function\u001b[49m\u001b[38;5;241;43m=\u001b[39;49m\u001b[38;5;124;43m\"\u001b[39;49m\u001b[38;5;124;43mmax\u001b[39;49m\u001b[38;5;124;43m\"\u001b[39;49m\u001b[43m,\u001b[49m\n\u001b[1;32m     12\u001b[0m \u001b[43m)\u001b[49m\n\u001b[1;32m     14\u001b[0m \u001b[38;5;66;03m# Plotting the results\u001b[39;00m\n\u001b[1;32m     15\u001b[0m \u001b[38;5;28mprint\u001b[39m(df_read[\u001b[38;5;241m0\u001b[39m])\n",
      "File \u001b[0;32m~/work/test-sphinx/src/name/data/nest_collection.py:135\u001b[0m, in \u001b[0;36mNESTClient.get_timeseries_data\u001b[0;34m(self, start_date, end_date, agg_unit, agg_interval, agg_function, timeseries_id, api_url, tz)\u001b[0m\n\u001b[1;32m    133\u001b[0m \u001b[38;5;28;01mexcept\u001b[39;00m \u001b[38;5;167;01mException\u001b[39;00m \u001b[38;5;28;01mas\u001b[39;00m e:\n\u001b[1;32m    134\u001b[0m     logger\u001b[38;5;241m.\u001b[39merror(e)\n\u001b[0;32m--> 135\u001b[0m \u001b[43mtimeseries\u001b[49m\u001b[38;5;241;43m.\u001b[39;49m\u001b[43mraise_for_status\u001b[49m\u001b[43m(\u001b[49m\u001b[43m)\u001b[49m\n\u001b[1;32m    137\u001b[0m timeseries \u001b[38;5;241m=\u001b[39m timeseries\u001b[38;5;241m.\u001b[39mjson()\n\u001b[1;32m    139\u001b[0m timeseries \u001b[38;5;241m=\u001b[39m pd\u001b[38;5;241m.\u001b[39mDataFrame(data\u001b[38;5;241m=\u001b[39mtimeseries[\u001b[38;5;241m1\u001b[39m][\u001b[38;5;124m\"\u001b[39m\u001b[38;5;124mtimeseries\u001b[39m\u001b[38;5;124m\"\u001b[39m])\n",
      "File \u001b[0;32m/opt/conda/lib/python3.9/site-packages/requests/models.py:1021\u001b[0m, in \u001b[0;36mResponse.raise_for_status\u001b[0;34m(self)\u001b[0m\n\u001b[1;32m   1016\u001b[0m     http_error_msg \u001b[38;5;241m=\u001b[39m (\n\u001b[1;32m   1017\u001b[0m         \u001b[38;5;124mf\u001b[39m\u001b[38;5;124m\"\u001b[39m\u001b[38;5;132;01m{\u001b[39;00m\u001b[38;5;28mself\u001b[39m\u001b[38;5;241m.\u001b[39mstatus_code\u001b[38;5;132;01m}\u001b[39;00m\u001b[38;5;124m Server Error: \u001b[39m\u001b[38;5;132;01m{\u001b[39;00mreason\u001b[38;5;132;01m}\u001b[39;00m\u001b[38;5;124m for url: \u001b[39m\u001b[38;5;132;01m{\u001b[39;00m\u001b[38;5;28mself\u001b[39m\u001b[38;5;241m.\u001b[39murl\u001b[38;5;132;01m}\u001b[39;00m\u001b[38;5;124m\"\u001b[39m\n\u001b[1;32m   1018\u001b[0m     )\n\u001b[1;32m   1020\u001b[0m \u001b[38;5;28;01mif\u001b[39;00m http_error_msg:\n\u001b[0;32m-> 1021\u001b[0m     \u001b[38;5;28;01mraise\u001b[39;00m HTTPError(http_error_msg, response\u001b[38;5;241m=\u001b[39m\u001b[38;5;28mself\u001b[39m)\n",
      "\u001b[0;31mHTTPError\u001b[0m: 403 Client Error: Forbidden for url: https://api.nestcloud.ch/nest/data?numericid=42110022&startDate=2024-03-01%2000:00:00&endDate=2024-04-01%2000:00:00&aggIntervall=1&aggUnit=minutes&aggFunction=max"
     ]
    }
   ],
   "source": [
    "nest = NESTClient()\n",
    "\n",
    "timeseries_id = [\"42110022\"]\n",
    "\n",
    "df_read = nest.get_timeseries_data(\n",
    "    timeseries_id=timeseries_id,\n",
    "    start_date=\"2024-03-01 00:00:00\",\n",
    "    end_date=\"2024-04-01 00:00:00\",\n",
    "    agg_interval=1,\n",
    "    agg_unit=\"minutes\",\n",
    "    agg_function=\"max\",\n",
    ")\n",
    "\n",
    "# Plotting the results\n",
    "print(df_read[0])"
   ]
  },
  {
   "cell_type": "markdown",
   "id": "86a9cc8d-426d-4114-8acf-cde608bcbd7d",
   "metadata": {},
   "source": [
    "load data from data "
   ]
  },
  {
   "cell_type": "code",
   "execution_count": 8,
   "id": "c8c0dbe8-06c1-4b05-9e9b-245c5680ccd3",
   "metadata": {},
   "outputs": [],
   "source": [
    "path = '../data/processed/'\n",
    "data_name = 'insert_name.csv'\n",
    "\n",
    "with open(f'{path + data_name}', 'r') as handle:\n",
    "    df = pd.read_csv(handle)"
   ]
  },
  {
   "cell_type": "markdown",
   "id": "b2f8d225-7a9f-4e15-9d4e-6e2aa736d204",
   "metadata": {},
   "source": [
    "## insert code below to reproduce your main results and visualisations"
   ]
  }
 ],
 "metadata": {
  "kernelspec": {
   "display_name": "Python 3 (ipykernel)",
   "language": "python",
   "name": "python3"
  },
  "language_info": {
   "codemirror_mode": {
    "name": "ipython",
    "version": 3
   },
   "file_extension": ".py",
   "mimetype": "text/x-python",
   "name": "python",
   "nbconvert_exporter": "python",
   "pygments_lexer": "ipython3",
   "version": "3.9.13"
  }
 },
 "nbformat": 4,
 "nbformat_minor": 5
}
