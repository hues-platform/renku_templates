{
 "cells": [
  {
   "cell_type": "markdown",
   "id": "f4734a95-119c-43bc-ac6e-4e2c7654687f",
   "metadata": {},
   "source": [
    "## load your modules and necessary libaries"
   ]
  },
  {
   "cell_type": "code",
   "execution_count": null,
   "id": "2f39d02e-ce82-4edc-a9b5-bc5eb129576e",
   "metadata": {},
   "outputs": [],
   "source": [
    "#general libraries \n",
    "import matplotlib.pyplot as plt\n",
    "import pandas as pd \n",
    "import numpy as np\n",
    "import pickle\n",
    "import os, sys, time\n",
    "import datetime as dt\n",
    "\n",
    "#replace *_projectname_* with your project name \n",
    "sys.path.append('/home/jovyan/work/_projectname_/')\n",
    "\n",
    "#load your custom modules and scripts \n",
    "#from src.name.data import DataCollecter\n",
    "#from src.name.features import DataEngineeringCyclicalFeatures\n",
    "#from src.name.model import WhiteBoxModel\n",
    "\n",
    "#load general metrics to estimate model performance \n",
    "#from sklearn.metrics import mean_absolute_error,r2_score,mean_squared_error, confusion_matrix, accuracy_score, precision_score, recall_score\n",
    "#from sklearn.ensemble import RandomForestRegressor, RandomForestClassifier "
   ]
  },
  {
   "cell_type": "markdown",
   "id": "71c0c18d-e810-4884-8fd3-01662b9bcf7a",
   "metadata": {},
   "source": [
    "## load data and model for your project"
   ]
  },
  {
   "cell_type": "markdown",
   "id": "ce6e2295-1764-4019-9ac2-e77929a273bc",
   "metadata": {},
   "source": [
    "load model from models"
   ]
  },
  {
   "cell_type": "code",
   "execution_count": null,
   "id": "5cdd858b-531d-43ef-9789-11e228a39977",
   "metadata": {},
   "outputs": [],
   "source": [
    "path = '../models/'\n",
    "model_name = '_insert_name'\n",
    "\n",
    "with open(f'{path + model_name}', 'rb') as handle:\n",
    "    model = pickle.load(handle)"
   ]
  },
  {
   "cell_type": "markdown",
   "id": "e8674609-afee-4412-87af-49fe836add60",
   "metadata": {},
   "source": [
    "load model from src code "
   ]
  },
  {
   "cell_type": "code",
   "execution_count": null,
   "id": "5858cc44-3f32-41fe-9351-fae873240097",
   "metadata": {},
   "outputs": [],
   "source": [
    "whitebox = WhiteBoxModel(path='../data/m2c/', filename='wb_oaw_prediction_20221001')"
   ]
  },
  {
   "cell_type": "markdown",
   "id": "08d6ed73-7175-4138-a432-c92dd2195e19",
   "metadata": {},
   "source": [
    "load data from src data e.g. NESTCloud use DataCollector"
   ]
  },
  {
   "cell_type": "code",
   "execution_count": null,
   "id": "69d9537c-06f4-4dc4-9eac-52dc632370b4",
   "metadata": {},
   "outputs": [],
   "source": [
    "start_date = '2022-07-11'\n",
    "end_date = '2022-07-12'\n",
    "testbed = 'sprint'\n",
    "\n",
    "collector = DataCollecter(testbed=testbed, \n",
    "                         start_date=start_date, \n",
    "                         end_date=end_date)"
   ]
  },
  {
   "cell_type": "markdown",
   "id": "86a9cc8d-426d-4114-8acf-cde608bcbd7d",
   "metadata": {},
   "source": [
    "load data from data "
   ]
  },
  {
   "cell_type": "code",
   "execution_count": null,
   "id": "c8c0dbe8-06c1-4b05-9e9b-245c5680ccd3",
   "metadata": {},
   "outputs": [],
   "source": [
    "path = '../data/processed/'\n",
    "data_name = '_insert_name'\n",
    "\n",
    "with open(f'{path + data_name}', 'r') as handle:\n",
    "    df = pd.read_csv(handle)"
   ]
  },
  {
   "cell_type": "markdown",
   "id": "b2f8d225-7a9f-4e15-9d4e-6e2aa736d204",
   "metadata": {},
   "source": [
    "## insert code below to reproduce your main results and visualisations"
   ]
  }
 ],
 "metadata": {
  "kernelspec": {
   "display_name": "Python 3 (ipykernel)",
   "language": "python",
   "name": "python3"
  },
  "language_info": {
   "codemirror_mode": {
    "name": "ipython",
    "version": 3
   },
   "file_extension": ".py",
   "mimetype": "text/x-python",
   "name": "python",
   "nbconvert_exporter": "python",
   "pygments_lexer": "ipython3",
   "version": "3.9.13"
  }
 },
 "nbformat": 4,
 "nbformat_minor": 5
}
